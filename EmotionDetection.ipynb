pip install tensorflow-gpu

pip install numpy

import tensorflow as tf
import cv2
import os
import matplotlib.pyplot as plt
import numpy as np

img_arr =cv2.imread("/home/riya/ML_project/archive/train/0/Training_3908.jpg")

img_arr.shape

plt.imshow(img_arr)

Datadirectory= '/home/riya/ML_project/archive/train/' ## training dataset
# Classes= ["angry","disgust","fear","happy","neutral","sad","surprise"]  ## list of classes
Classes= ["0","1","2","3","4","5","6"] 

for category in Classes:     ##this loop is used to read all images from dataset
    path= os.path.join(Datadirectory, category)
    for img in os.listdir(path):
        img_arr =cv2.imread(os.path.join(path, img))
        plt.imshow(cv2.cvtColor(img_arr, cv2.COLOR_BGR2RGB))
        plt.show() ## display only one img
        break;
    break;
    
img_size= 224 ## imageNet will be 224x224
new_img_arr = cv2.resize(img_arr,(img_size,img_size))  ##resize the dimentions of image
plt.imshow(cv2.cvtColor(new_img_arr, cv2.COLOR_BGR2RGB))
plt.show()

new_img_arr.shape ## classifier will required this size to classify effeciently

# read all images and convert into array

training_data=[]

def create_training_data():
    for category in Classes:     ##reading all images from dataset
        path= os.path.join(Datadirectory, category)
        class_num = Classes.index(category) ## labels 
        
        
    for img in os.listdir(path):
        try:
            img_arr =cv2.imread(os.path.join(path, img))
            new_img_arr = cv2.resize(img_arr,(img_size,img_size))
            training_data.append([new_img_arr,class_num])
        except Exception as e:
            pass


create_training_data() ## this function when calls read all the images

print(len(training_data)) ## show number of read images

tem=np.array(training_data)
tem.shape

import random
random.shuffle(training_data)

X= [] ## features
y= [] ## labels
for features,label in training_data:
    X.append(features)
    y.append(label)    
X= np.array(X).reshape(-1,img_size,img_size,3) ## converting it to 4 dimensions

X.shape

Normalize the data
X=X/255 ## we are normalizing featurs

training_data.shape

y[0]
type(y)

Y=np.array(y);

Y.shape

import tensorflow as tf
from tensorflow import keras 
from tensorflow.keras import layers

model= tf.keras.applications.MobileNetV2()

model.summary()

base_input=model.layers[0].input  #input

base_output =model.layers[-2].output

base_output

final_output =layers.Dense(128)(base_output)   #adding new layer, after the output of global pooling layer
final_output= layers.Activation('relu')(final_output) #activation function
final_output= layers.Dense(64)(final_output)
final_output = layers.Activation('relu')(final_output)
final_output= layers.Dense(7,activation='softmax')(final_output) #classes are 7 , it is classification layer

final_output ##output

new_model = keras.Model(inputs = base_input,outputs = final_output)

new_model.summary()

new_model.compile(loss='spase_categorical_crossentropy', optimizer= 'adam' ,metrics=['accuracy'])

new_model.fit(X,Y,epochs= 25)

new_model.save('final_model_94p07.h5')

new_model= tf.keras.model.load_model('Final_model_95p07.h5')

new_model.evaluate #test model

faceCascade = cv2.CascadeClassifier(cv2.data.haarcascades + 'haarcascade_frontalface_default.xml')

faces= faceCascade.detectMultiScale(gray,1.1,4)
for x,y,w,hin faces:
    roi_gray= gray[y:y+h,x:x+w]
    roi_color= fram[y:y+h,x:x+w]
    cv2.rectangle(frame, (x,y),(x+w, y+h),(255,0,0),2)
    
    faces= faceCascade.detectMultiScale(roi_gray)
if len(faces) == 0:
    print("Face not detected")
else:
    for(ex, ey,ew,eh) in faces:
        face_roi = roi_color(ey: ey+eh,ex:ex+ew)
        
        final_image = cv2.resize(face_roi,(224,224))
final_image = np.expand_dims(final_image,axis=0)  
final_image = final_image/255.0   ## normalizing 
